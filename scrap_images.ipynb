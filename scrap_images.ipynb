{
 "cells": [
  {
   "cell_type": "code",
   "execution_count": 6,
   "metadata": {},
   "outputs": [],
   "source": [
    "import os\n",
    "import json \n",
    "import requests\n",
    "import selenium\n",
    "from selenium import webdriver \n",
    "from selenium.webdriver.chrome.service import Service\n",
    "import base64\n",
    "import time\n",
    "import urllib.request"
   ]
  },
  {
   "cell_type": "code",
   "execution_count": 2,
   "metadata": {},
   "outputs": [
    {
     "name": "stderr",
     "output_type": "stream",
     "text": [
      "C:\\Users\\mogam\\AppData\\Local\\Temp\\ipykernel_19436\\3592378160.py:6: DeprecationWarning: executable_path has been deprecated, please pass in a Service object\n",
      "  driver = webdriver.Chrome(DRIVER_PATH)\n"
     ]
    }
   ],
   "source": [
    "DRIVER_PATH = 'C:/Users/mogam/ChromeDriver/chromedriver.exe'\n",
    "\n",
    "SAVE_FOLDER = 'Blackleg/'\n",
    "\n",
    "GOOGLE_IMAGES = 'https://www.google.com/search?q=blackleg+potato&source=lnms&tbm=isch&sa=X&ved=2ahUKEwjvk7q5qoL6AhX-hP0HHUebAKEQ_AUoAXoECAEQAw&biw=638&bih=550&dpr=1.5'\n",
    "driver = webdriver.Chrome(DRIVER_PATH)\n",
    "driver.get(GOOGLE_IMAGES)"
   ]
  },
  {
   "cell_type": "code",
   "execution_count": 3,
   "metadata": {},
   "outputs": [],
   "source": [
    "# Scroll to the end of the page\n",
    "def scroll_to_end():\n",
    "    driver.execute_script(\"window.scrollTo(0, document.body.scrollHeight);\")\n",
    "    time.sleep(5)\n",
    "    print('scroll done')"
   ]
  },
  {
   "cell_type": "code",
   "execution_count": 7,
   "metadata": {},
   "outputs": [
    {
     "name": "stdout",
     "output_type": "stream",
     "text": [
      "scroll done\n"
     ]
    },
    {
     "ename": "InvalidArgumentException",
     "evalue": "Message: invalid argument: invalid locator\n  (Session info: chrome=105.0.5195.102)\nStacktrace:\nBacktrace:\n\tOrdinal0 [0x00AEDF13+2219795]\n\tOrdinal0 [0x00A82841+1779777]\n\tOrdinal0 [0x0099423D+803389]\n\tOrdinal0 [0x009C2AC9+993993]\n\tOrdinal0 [0x009C31EB+995819]\n\tOrdinal0 [0x009F0F52+1183570]\n\tOrdinal0 [0x009DE844+1108036]\n\tOrdinal0 [0x009EF192+1175954]\n\tOrdinal0 [0x009DE616+1107478]\n\tOrdinal0 [0x009B7F89+950153]\n\tOrdinal0 [0x009B8F56+954198]\n\tGetHandleVerifier [0x00DE2CB2+3040210]\n\tGetHandleVerifier [0x00DD2BB4+2974420]\n\tGetHandleVerifier [0x00B86A0A+565546]\n\tGetHandleVerifier [0x00B85680+560544]\n\tOrdinal0 [0x00A89A5C+1808988]\n\tOrdinal0 [0x00A8E3A8+1827752]\n\tOrdinal0 [0x00A8E495+1827989]\n\tOrdinal0 [0x00A980A4+1867940]\n\tBaseThreadInitThunk [0x76666739+25]\n\tRtlGetFullPathName_UEx [0x777190AF+1215]\n\tRtlGetFullPathName_UEx [0x7771907D+1165]\n",
     "output_type": "error",
     "traceback": [
      "\u001b[1;31m---------------------------------------------------------------------------\u001b[0m",
      "\u001b[1;31mInvalidArgumentException\u001b[0m                  Traceback (most recent call last)",
      "Cell \u001b[1;32mIn [7], line 4\u001b[0m\n\u001b[0;32m      2\u001b[0m \u001b[38;5;28;01mfor\u001b[39;00m i \u001b[38;5;129;01min\u001b[39;00m \u001b[38;5;28mrange\u001b[39m(\u001b[38;5;241m1\u001b[39m,\u001b[38;5;241m2\u001b[39m):     \n\u001b[0;32m      3\u001b[0m     scroll_to_end()\n\u001b[1;32m----> 4\u001b[0m     image_elements \u001b[38;5;241m=\u001b[39m \u001b[43mdriver\u001b[49m\u001b[38;5;241;43m.\u001b[39;49m\u001b[43mfind_element\u001b[49m\u001b[43m(\u001b[49m\u001b[38;5;124;43m'\u001b[39;49m\u001b[38;5;124;43mrg_i\u001b[39;49m\u001b[38;5;124;43m'\u001b[39;49m\u001b[43m)\u001b[49m\n\u001b[0;32m      5\u001b[0m     \u001b[38;5;28mprint\u001b[39m(\u001b[38;5;28mlen\u001b[39m(image_elements))\n\u001b[0;32m      6\u001b[0m     \u001b[38;5;28;01mfor\u001b[39;00m image \u001b[38;5;129;01min\u001b[39;00m image_elements: \n",
      "File \u001b[1;32mc:\\Users\\mogam\\Desktop\\Work\\Potato Datasets\\GooglePythonJS\\myenv\\lib\\site-packages\\selenium\\webdriver\\remote\\webdriver.py:855\u001b[0m, in \u001b[0;36mWebDriver.find_element\u001b[1;34m(self, by, value)\u001b[0m\n\u001b[0;32m    852\u001b[0m     by \u001b[39m=\u001b[39m By\u001b[39m.\u001b[39mCSS_SELECTOR\n\u001b[0;32m    853\u001b[0m     value \u001b[39m=\u001b[39m \u001b[39m'\u001b[39m\u001b[39m[name=\u001b[39m\u001b[39m\"\u001b[39m\u001b[39m%s\u001b[39;00m\u001b[39m\"\u001b[39m\u001b[39m]\u001b[39m\u001b[39m'\u001b[39m \u001b[39m%\u001b[39m value\n\u001b[1;32m--> 855\u001b[0m \u001b[39mreturn\u001b[39;00m \u001b[39mself\u001b[39;49m\u001b[39m.\u001b[39;49mexecute(Command\u001b[39m.\u001b[39;49mFIND_ELEMENT, {\n\u001b[0;32m    856\u001b[0m     \u001b[39m'\u001b[39;49m\u001b[39musing\u001b[39;49m\u001b[39m'\u001b[39;49m: by,\n\u001b[0;32m    857\u001b[0m     \u001b[39m'\u001b[39;49m\u001b[39mvalue\u001b[39;49m\u001b[39m'\u001b[39;49m: value})[\u001b[39m'\u001b[39m\u001b[39mvalue\u001b[39m\u001b[39m'\u001b[39m]\n",
      "File \u001b[1;32mc:\\Users\\mogam\\Desktop\\Work\\Potato Datasets\\GooglePythonJS\\myenv\\lib\\site-packages\\selenium\\webdriver\\remote\\webdriver.py:428\u001b[0m, in \u001b[0;36mWebDriver.execute\u001b[1;34m(self, driver_command, params)\u001b[0m\n\u001b[0;32m    426\u001b[0m response \u001b[39m=\u001b[39m \u001b[39mself\u001b[39m\u001b[39m.\u001b[39mcommand_executor\u001b[39m.\u001b[39mexecute(driver_command, params)\n\u001b[0;32m    427\u001b[0m \u001b[39mif\u001b[39;00m response:\n\u001b[1;32m--> 428\u001b[0m     \u001b[39mself\u001b[39;49m\u001b[39m.\u001b[39;49merror_handler\u001b[39m.\u001b[39;49mcheck_response(response)\n\u001b[0;32m    429\u001b[0m     response[\u001b[39m'\u001b[39m\u001b[39mvalue\u001b[39m\u001b[39m'\u001b[39m] \u001b[39m=\u001b[39m \u001b[39mself\u001b[39m\u001b[39m.\u001b[39m_unwrap_value(\n\u001b[0;32m    430\u001b[0m         response\u001b[39m.\u001b[39mget(\u001b[39m'\u001b[39m\u001b[39mvalue\u001b[39m\u001b[39m'\u001b[39m, \u001b[39mNone\u001b[39;00m))\n\u001b[0;32m    431\u001b[0m     \u001b[39mreturn\u001b[39;00m response\n",
      "File \u001b[1;32mc:\\Users\\mogam\\Desktop\\Work\\Potato Datasets\\GooglePythonJS\\myenv\\lib\\site-packages\\selenium\\webdriver\\remote\\errorhandler.py:243\u001b[0m, in \u001b[0;36mErrorHandler.check_response\u001b[1;34m(self, response)\u001b[0m\n\u001b[0;32m    241\u001b[0m         alert_text \u001b[39m=\u001b[39m value[\u001b[39m'\u001b[39m\u001b[39malert\u001b[39m\u001b[39m'\u001b[39m]\u001b[39m.\u001b[39mget(\u001b[39m'\u001b[39m\u001b[39mtext\u001b[39m\u001b[39m'\u001b[39m)\n\u001b[0;32m    242\u001b[0m     \u001b[39mraise\u001b[39;00m exception_class(message, screen, stacktrace, alert_text)  \u001b[39m# type: ignore[call-arg]  # mypy is not smart enough here\u001b[39;00m\n\u001b[1;32m--> 243\u001b[0m \u001b[39mraise\u001b[39;00m exception_class(message, screen, stacktrace)\n",
      "\u001b[1;31mInvalidArgumentException\u001b[0m: Message: invalid argument: invalid locator\n  (Session info: chrome=105.0.5195.102)\nStacktrace:\nBacktrace:\n\tOrdinal0 [0x00AEDF13+2219795]\n\tOrdinal0 [0x00A82841+1779777]\n\tOrdinal0 [0x0099423D+803389]\n\tOrdinal0 [0x009C2AC9+993993]\n\tOrdinal0 [0x009C31EB+995819]\n\tOrdinal0 [0x009F0F52+1183570]\n\tOrdinal0 [0x009DE844+1108036]\n\tOrdinal0 [0x009EF192+1175954]\n\tOrdinal0 [0x009DE616+1107478]\n\tOrdinal0 [0x009B7F89+950153]\n\tOrdinal0 [0x009B8F56+954198]\n\tGetHandleVerifier [0x00DE2CB2+3040210]\n\tGetHandleVerifier [0x00DD2BB4+2974420]\n\tGetHandleVerifier [0x00B86A0A+565546]\n\tGetHandleVerifier [0x00B85680+560544]\n\tOrdinal0 [0x00A89A5C+1808988]\n\tOrdinal0 [0x00A8E3A8+1827752]\n\tOrdinal0 [0x00A8E495+1827989]\n\tOrdinal0 [0x00A980A4+1867940]\n\tBaseThreadInitThunk [0x76666739+25]\n\tRtlGetFullPathName_UEx [0x777190AF+1215]\n\tRtlGetFullPathName_UEx [0x7771907D+1165]\n"
     ]
    }
   ],
   "source": [
    "counter = 0\n",
    "for i in range(1,2):     \n",
    "    scroll_to_end()\n",
    "    image_elements = driver.find_element('rg_i')\n",
    "    print(len(image_elements))\n",
    "    for image in image_elements: \n",
    "        if (image.get_attribute('src') is not None):\n",
    "            my_image = image.get_attribute('src').split('data:image/jpeg;base64,')\n",
    "            filename = SAVE_FOLDER + 'helmet'+str(counter)+'.jpeg'\n",
    "            if(len(my_image) >1): \n",
    "                with open(filename, 'wb') as f: \n",
    "                    f.write(base64.b64decode(my_image[1]))\n",
    "        else: \n",
    "            print(image.get_attribute('src'))\n",
    "            urllib.request.urlretrieve(image.get_attribute('src'), SAVE_FOLDER + 'helmet'+ str(counter)+'.jpeg')\n",
    "counter += 1"
   ]
  }
 ],
 "metadata": {
  "kernelspec": {
   "display_name": "Python 3.10.7 64-bit (microsoft store)",
   "language": "python",
   "name": "python3"
  },
  "language_info": {
   "codemirror_mode": {
    "name": "ipython",
    "version": 3
   },
   "file_extension": ".py",
   "mimetype": "text/x-python",
   "name": "python",
   "nbconvert_exporter": "python",
   "pygments_lexer": "ipython3",
   "version": "3.10.7"
  },
  "orig_nbformat": 4,
  "vscode": {
   "interpreter": {
    "hash": "9506da80a98f245f7c0c859843a47a6f40cddcc87500b7bf3ace34912fb4549e"
   }
  }
 },
 "nbformat": 4,
 "nbformat_minor": 2
}
